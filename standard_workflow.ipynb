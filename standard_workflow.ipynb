{
 "cells": [
  {
   "cell_type": "markdown",
   "source": [
    "# Standard workflow for minSNPs\n",
    "1. Create a BiocParallel Backend\n",
    "2. Pre-process & check input file"
   ],
   "metadata": {}
  },
  {
   "cell_type": "code",
   "execution_count": 1,
   "source": [
    "library(BiocParallel)\n",
    "library(minSNPs)"
   ],
   "outputs": [
    {
     "output_type": "error",
     "ename": "ERROR",
     "evalue": "Error in library(minSNPs): there is no package called ‘minSNPs’\n",
     "traceback": [
      "Error in library(minSNPs): there is no package called ‘minSNPs’\nTraceback:\n",
      "1. library(minSNPs)"
     ]
    }
   ],
   "metadata": {}
  },
  {
   "cell_type": "markdown",
   "source": [],
   "metadata": {}
  }
 ],
 "metadata": {
  "orig_nbformat": 4,
  "language_info": {
   "name": "R",
   "codemirror_mode": "r",
   "pygments_lexer": "r",
   "mimetype": "text/x-r-source",
   "file_extension": ".r",
   "version": "3.6.3"
  },
  "kernelspec": {
   "name": "ir",
   "display_name": "R",
   "language": "R"
  }
 },
 "nbformat": 4,
 "nbformat_minor": 2
}